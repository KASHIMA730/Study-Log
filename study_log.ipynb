{
  "nbformat": 4,
  "nbformat_minor": 0,
  "metadata": {
    "colab": {
      "provenance": []
    },
    "kernelspec": {
      "name": "python3",
      "display_name": "Python 3"
    },
    "language_info": {
      "name": "python"
    }
  },
  "cells": [
    {
      "cell_type": "code",
      "source": [
        "import csv\n",
        "from datetime import datetime\n",
        "\n",
        "kamoku = input(\"勉強した科目は？：\")\n",
        "time = input(\"何分勉強しましたか？：\")\n",
        "\n",
        "filename = \"study_log.csv\"\n",
        "\n",
        "with open(filename, mode=\"a\", newline=\"\", encoding=\"utf-8\") as file:\n",
        "    writer = csv.writer(file)\n",
        "    writer.writerow([datetime.now().strftime(\"%Y-%m-%d %H:%M\"), kamoku, time])\n",
        "\n",
        "print(f\"勉強記録を保存しました！（{filename}）\")\n"
      ],
      "metadata": {
        "colab": {
          "base_uri": "https://localhost:8080/"
        },
        "id": "ZRCZpbLY2xLg",
        "outputId": "688f638d-e7c4-4f74-a574-5554bd454cd8"
      },
      "execution_count": 6,
      "outputs": [
        {
          "output_type": "stream",
          "name": "stdout",
          "text": [
            "勉強した科目は？：数学\n",
            "何分勉強しましたか？：20\n",
            "勉強記録を保存しました！（study_log.csv）\n"
          ]
        }
      ]
    },
    {
      "cell_type": "code",
      "source": [],
      "metadata": {
        "id": "nio8LKdF3Fi5"
      },
      "execution_count": null,
      "outputs": []
    }
  ]
}